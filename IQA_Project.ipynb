{
  "nbformat": 4,
  "nbformat_minor": 0,
  "metadata": {
    "colab": {
      "name": "IQA_Project.ipynb",
      "version": "0.3.2",
      "provenance": [],
      "collapsed_sections": [
        "gIe2YMdu3G-0",
        "wqV5uWIc4GO3",
        "b78B-KIX6Kf4"
      ]
    },
    "kernelspec": {
      "name": "python3",
      "display_name": "Python 3"
    },
    "accelerator": "GPU"
  },
  "cells": [
    {
      "metadata": {
        "id": "wU4YEshC3zvF",
        "colab_type": "text"
      },
      "cell_type": "markdown",
      "source": [
        "Submitted by: Vikas Gola (2016UCS0023) and Sahil Bansal (2016UCS0008)\n",
        "\n",
        "- Change the **base_path** variable to the current directory where the **dataset/** folder is present."
      ]
    },
    {
      "metadata": {
        "id": "gIe2YMdu3G-0",
        "colab_type": "text"
      },
      "cell_type": "markdown",
      "source": [
        "# Import libraries"
      ]
    },
    {
      "metadata": {
        "id": "o3TrP_9P3J9D",
        "colab_type": "code",
        "colab": {}
      },
      "cell_type": "code",
      "source": [
        "# from google.colab import drive\n",
        "# drive.mount('/content/gdrive')"
      ],
      "execution_count": 0,
      "outputs": []
    },
    {
      "metadata": {
        "id": "5qx0wKle3Lik",
        "colab_type": "code",
        "colab": {}
      },
      "cell_type": "code",
      "source": [
        "# with open('/content/gdrive/My Drive/Colab Notebooks/dataset/hello.txt', 'w') as f:\n",
        "#   f.write('Hello Google Drive!')\n",
        "# !cat /content/gdrive/My\\ Drive/Colab\\ Notebooks/dataset/hello.txt"
      ],
      "execution_count": 0,
      "outputs": []
    },
    {
      "metadata": {
        "id": "ZTf5FcA73ds_",
        "colab_type": "code",
        "colab": {}
      },
      "cell_type": "code",
      "source": [
        "import glob\n",
        "import cv2\n",
        "import numpy as np\n",
        "import pandas as pd\n",
        "from matplotlib import pyplot as plt\n",
        "import os.path as path"
      ],
      "execution_count": 0,
      "outputs": []
    },
    {
      "metadata": {
        "id": "wqV5uWIc4GO3",
        "colab_type": "text"
      },
      "cell_type": "markdown",
      "source": [
        "# Read the images"
      ]
    },
    {
      "metadata": {
        "id": "-ZJycyhK4kzj",
        "colab_type": "code",
        "colab": {
          "base_uri": "https://localhost:8080/",
          "height": 34
        },
        "outputId": "bcbb4a52-a5d1-4f77-b8d7-035c61f6763c"
      },
      "cell_type": "code",
      "source": [
        "# get the image id from the image path\n",
        "img = \"/content/gdrive/My Drive/Colab Notebooks/dataset/1.png\"\n",
        "path.splitext(path.basename(img))[0]"
      ],
      "execution_count": 10,
      "outputs": [
        {
          "output_type": "execute_result",
          "data": {
            "text/plain": [
              "'1'"
            ]
          },
          "metadata": {
            "tags": []
          },
          "execution_count": 10
        }
      ]
    },
    {
      "metadata": {
        "id": "fKO7ji3G6z-o",
        "colab_type": "code",
        "colab": {}
      },
      "cell_type": "code",
      "source": [
        "base_path = \"/content/gdrive/My Drive/Colab Notebooks/\""
      ],
      "execution_count": 0,
      "outputs": []
    },
    {
      "metadata": {
        "id": "_4ig0qgL4QkQ",
        "colab_type": "code",
        "colab": {}
      },
      "cell_type": "code",
      "source": [
        "imgs = []\n",
        "imgids = []\n",
        "for img in glob.glob(base_path + \"dataset/*.png\"):\n",
        "    # get the image id\n",
        "    imgids.append(int(path.splitext(path.basename(img))[0]))\n",
        "    # read the image\n",
        "    input_img = cv2.imread(img, 0)\n",
        "    # add to the imgs list\n",
        "    imgs.append(input_img)"
      ],
      "execution_count": 0,
      "outputs": []
    },
    {
      "metadata": {
        "id": "XJ11jA8D4_Fa",
        "colab_type": "code",
        "colab": {
          "base_uri": "https://localhost:8080/",
          "height": 51
        },
        "outputId": "56763274-ce8c-43d3-ae9a-2659e9b39ddb"
      },
      "cell_type": "code",
      "source": [
        "# zip and sort the imgids and imgs by the image_id\n",
        "imgids, img = zip(*sorted(zip(imgids, imgs)))\n",
        "# create np arrays\n",
        "imgs = np.array(imgs)\n",
        "imgids = np.array(imgids)\n",
        "# print the shapes\n",
        "print(imgids.shape)\n",
        "print(imgs.shape)"
      ],
      "execution_count": 29,
      "outputs": [
        {
          "output_type": "stream",
          "text": [
            "(84,)\n",
            "(84, 768, 1024)\n"
          ],
          "name": "stdout"
        }
      ]
    },
    {
      "metadata": {
        "id": "K8N1v32Z5hdp",
        "colab_type": "text"
      },
      "cell_type": "markdown",
      "source": [
        "Thus, the size of an image is 768x1024 and there are total 84 images."
      ]
    },
    {
      "metadata": {
        "id": "b78B-KIX6Kf4",
        "colab_type": "text"
      },
      "cell_type": "markdown",
      "source": [
        "# Read the subjective scores"
      ]
    },
    {
      "metadata": {
        "id": "eOgiZ_VA6szX",
        "colab_type": "code",
        "colab": {
          "base_uri": "https://localhost:8080/",
          "height": 34
        },
        "outputId": "37b08a5c-11ad-4864-aa90-6aee38825f12"
      },
      "cell_type": "code",
      "source": [
        "subjective_scores = np.array(pd.read_excel(base_path + \"dataset/DMOS_DIBR.xlsx\", index_col = None, header = None))[:, 0]\n",
        "print(subjective_scores.shape)"
      ],
      "execution_count": 35,
      "outputs": [
        {
          "output_type": "stream",
          "text": [
            "(84,)\n"
          ],
          "name": "stdout"
        }
      ]
    },
    {
      "metadata": {
        "id": "U3lgVK_M7IYK",
        "colab_type": "code",
        "colab": {
          "base_uri": "https://localhost:8080/",
          "height": 34
        },
        "outputId": "659705e2-d60a-43ee-91cb-55157d097c4a"
      },
      "cell_type": "code",
      "source": [
        "# create a numpy array to store the objective scores\n",
        "objective_scores = np.zeros(subjective_scores.shape)\n",
        "print(objective_scores.shape)"
      ],
      "execution_count": 37,
      "outputs": [
        {
          "output_type": "stream",
          "text": [
            "(84,)\n"
          ],
          "name": "stdout"
        }
      ]
    },
    {
      "metadata": {
        "id": "5J-whFbg7vmi",
        "colab_type": "text"
      },
      "cell_type": "markdown",
      "source": [
        "# Image Quality Assessment Algorithm"
      ]
    },
    {
      "metadata": {
        "id": "VKqx-svP7x1W",
        "colab_type": "code",
        "colab": {}
      },
      "cell_type": "code",
      "source": [
        ""
      ],
      "execution_count": 0,
      "outputs": []
    }
  ]
}