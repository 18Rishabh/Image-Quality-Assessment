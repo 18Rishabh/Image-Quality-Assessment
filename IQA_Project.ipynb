{
 "cells": [
  {
   "cell_type": "markdown",
   "metadata": {
    "colab_type": "text",
    "id": "wU4YEshC3zvF"
   },
   "source": [
    "Submitted by: Vikas Gola (2016UCS0023) and Sahil Bansal (2016UCS0008)\n",
    "\n",
    "- Change the **base_path** variable to the current directory where the **dataset/** folder is present."
   ]
  },
  {
   "cell_type": "markdown",
   "metadata": {
    "colab_type": "text",
    "id": "gIe2YMdu3G-0"
   },
   "source": [
    "# Import libraries"
   ]
  },
  {
   "cell_type": "code",
   "execution_count": 0,
   "metadata": {
    "colab": {},
    "colab_type": "code",
    "collapsed": true,
    "id": "o3TrP_9P3J9D"
   },
   "outputs": [],
   "source": [
    "# from google.colab import drive\n",
    "# drive.mount('/content/gdrive')"
   ]
  },
  {
   "cell_type": "code",
   "execution_count": 0,
   "metadata": {
    "colab": {},
    "colab_type": "code",
    "collapsed": true,
    "id": "5qx0wKle3Lik"
   },
   "outputs": [],
   "source": [
    "# with open('/content/gdrive/My Drive/Colab Notebooks/dataset/hello.txt', 'w') as f:\n",
    "#   f.write('Hello Google Drive!')\n",
    "# !cat /content/gdrive/My\\ Drive/Colab\\ Notebooks/dataset/hello.txt"
   ]
  },
  {
   "cell_type": "code",
   "execution_count": 2,
   "metadata": {
    "colab": {},
    "colab_type": "code",
    "collapsed": true,
    "id": "ZTf5FcA73ds_"
   },
   "outputs": [],
   "source": [
    "import glob\n",
    "import cv2\n",
    "import numpy as np\n",
    "import pandas as pd\n",
    "from matplotlib import pyplot as plt\n",
    "import os.path as path"
   ]
  },
  {
   "cell_type": "markdown",
   "metadata": {
    "colab_type": "text",
    "id": "wqV5uWIc4GO3"
   },
   "source": [
    "# Read the images"
   ]
  },
  {
   "cell_type": "code",
   "execution_count": 3,
   "metadata": {
    "colab": {
     "base_uri": "https://localhost:8080/",
     "height": 54
    },
    "colab_type": "code",
    "id": "-ZJycyhK4kzj",
    "outputId": "903db53d-ded5-4ea7-bfe5-c1d20e60c82c"
   },
   "outputs": [
    {
     "data": {
      "text/plain": [
       "'1'"
      ]
     },
     "execution_count": 3,
     "metadata": {},
     "output_type": "execute_result"
    }
   ],
   "source": [
    "# get the image id from the image path\n",
    "img = \"./dataset/1.png\"\n",
    "path.splitext(path.basename(img))[0]"
   ]
  },
  {
   "cell_type": "code",
   "execution_count": 7,
   "metadata": {
    "colab": {},
    "colab_type": "code",
    "collapsed": true,
    "id": "fKO7ji3G6z-o"
   },
   "outputs": [],
   "source": [
    "base_path = \"./\""
   ]
  },
  {
   "cell_type": "code",
   "execution_count": 8,
   "metadata": {
    "colab": {},
    "colab_type": "code",
    "collapsed": true,
    "id": "_4ig0qgL4QkQ"
   },
   "outputs": [],
   "source": [
    "imgs = []\n",
    "imgids = []\n",
    "for img in glob.glob(base_path + \"dataset/*.png\"):\n",
    "    # get the image id\n",
    "    imgids.append(int(path.splitext(path.basename(img))[0]))\n",
    "    # read the image\n",
    "    input_img = cv2.imread(img, 0)\n",
    "    # add to the imgs list\n",
    "    imgs.append(input_img)"
   ]
  },
  {
   "cell_type": "code",
   "execution_count": 9,
   "metadata": {
    "colab": {
     "base_uri": "https://localhost:8080/",
     "height": 71
    },
    "colab_type": "code",
    "id": "XJ11jA8D4_Fa",
    "outputId": "2131b9c9-dd14-4629-cf8e-3156af3723f6"
   },
   "outputs": [
    {
     "name": "stdout",
     "output_type": "stream",
     "text": [
      "(84,)\n",
      "(84, 768, 1024)\n"
     ]
    }
   ],
   "source": [
    "# zip and sort the imgids and imgs by the image_id\n",
    "imgids, imgs = zip(*sorted(zip(imgids, imgs)))\n",
    "# create np arrays\n",
    "imgs = np.array(imgs)\n",
    "imgids = np.array(imgids)\n",
    "# print the shapes\n",
    "print(imgids.shape)\n",
    "print(imgs.shape)"
   ]
  },
  {
   "cell_type": "markdown",
   "metadata": {
    "colab_type": "text",
    "id": "K8N1v32Z5hdp"
   },
   "source": [
    "Thus, the size of an image is 768x1024 and there are total 84 images."
   ]
  },
  {
   "cell_type": "markdown",
   "metadata": {
    "colab_type": "text",
    "id": "b78B-KIX6Kf4"
   },
   "source": [
    "# Read the subjective scores"
   ]
  },
  {
   "cell_type": "code",
   "execution_count": 10,
   "metadata": {
    "colab": {
     "base_uri": "https://localhost:8080/",
     "height": 54
    },
    "colab_type": "code",
    "id": "eOgiZ_VA6szX",
    "outputId": "fcff3a37-ec18-4318-cb81-14bb3a117c86"
   },
   "outputs": [
    {
     "name": "stdout",
     "output_type": "stream",
     "text": [
      "(84,)\n"
     ]
    }
   ],
   "source": [
    "subjective_scores = np.array(pd.read_excel(base_path + \"dataset/DMOS_DIBR.xlsx\", index_col = None, header = None))[:, 0]\n",
    "print(subjective_scores.shape)"
   ]
  },
  {
   "cell_type": "code",
   "execution_count": 11,
   "metadata": {
    "colab": {
     "base_uri": "https://localhost:8080/",
     "height": 54
    },
    "colab_type": "code",
    "id": "U3lgVK_M7IYK",
    "outputId": "b8b9a676-b405-4223-bf13-c625a6d2558d"
   },
   "outputs": [
    {
     "name": "stdout",
     "output_type": "stream",
     "text": [
      "(84,)\n"
     ]
    }
   ],
   "source": [
    "# create a numpy array to store the objective scores\n",
    "objective_scores = np.zeros(subjective_scores.shape)\n",
    "print(objective_scores.shape)"
   ]
  },
  {
   "cell_type": "markdown",
   "metadata": {
    "colab_type": "text",
    "id": "0BcpMD7GGmXq"
   },
   "source": [
    "# Images with really poor Subjective scores"
   ]
  },
  {
   "cell_type": "code",
   "execution_count": 12,
   "metadata": {
    "colab": {
     "base_uri": "https://localhost:8080/",
     "height": 85
    },
    "colab_type": "code",
    "id": "dsSPLCWhGpF4",
    "outputId": "d16501a5-afc3-43c6-e044-c5e85e72a4ab"
   },
   "outputs": [
    {
     "name": "stdout",
     "output_type": "stream",
     "text": [
      "Images with really poor Subjective Scores are: \n",
      "3 1.720930233\n",
      "38 2.581395349\n",
      "80 1.88372093\n"
     ]
    }
   ],
   "source": [
    "# for i in range(subjective_scores.shape[0]):\n",
    "#     print(i + 1, subjective_scores[i])\n",
    "\n",
    "# image 1\n",
    "\n",
    "print(\"Images with really poor Subjective Scores are: \")\n",
    "worst = 5\n",
    "no = -1\n",
    "for i in range(0, 28):\n",
    "    if (subjective_scores[i] < worst):\n",
    "        worst = subjective_scores[i]\n",
    "        no = i + 1\n",
    "print(no, worst)\n",
    "\n",
    "# image 2\n",
    "worst = 5\n",
    "for i in range(28, 56):\n",
    "    if (subjective_scores[i] < worst):\n",
    "        worst = subjective_scores[i]\n",
    "        no = i + 1\n",
    "print(no, worst)\n",
    "\n",
    "# image 3\n",
    "worst = 5\n",
    "for i in range(56, 84):\n",
    "    if (subjective_scores[i] < worst):\n",
    "        worst = subjective_scores[i]\n",
    "        no = i + 1\n",
    "print(no, worst)"
   ]
  },
  {
   "cell_type": "code",
   "execution_count": 13,
   "metadata": {
    "colab": {
     "base_uri": "https://localhost:8080/",
     "height": 286
    },
    "colab_type": "code",
    "id": "CDhRdJYeGr_T",
    "outputId": "ea0baeaf-ceb5-4138-f48d-b04607dacbdc"
   },
   "outputs": [
    {
     "data": {
      "text/plain": [
       "<matplotlib.image.AxesImage at 0x7efe2cb9f208>"
      ]
     },
     "execution_count": 13,
     "metadata": {},
     "output_type": "execute_result"
    }
   ],
   "source": [
    "fig = plt.figure()\n",
    "fig.add_subplot(2, 2, 1)\n",
    "plt.imshow(imgs[2], cmap = 'gray')\n",
    "fig.add_subplot(2, 2, 2)\n",
    "plt.imshow(imgs[37], cmap = 'gray')\n",
    "fig.add_subplot(2, 2, 3)\n",
    "plt.imshow(imgs[79], cmap = 'gray')"
   ]
  },
  {
   "cell_type": "markdown",
   "metadata": {
    "colab_type": "text",
    "id": "5J-whFbg7vmi"
   },
   "source": [
    "# Image Quality Assessment - Morphological Hole Filling"
   ]
  },
  {
   "cell_type": "code",
   "execution_count": 0,
   "metadata": {
    "colab": {
     "base_uri": "https://localhost:8080/",
     "height": 286
    },
    "colab_type": "code",
    "id": "VKqx-svP7x1W",
    "outputId": "178c883e-ad32-4f19-f4f7-01927bfe3e6e"
   },
   "outputs": [
    {
     "data": {
      "text/plain": [
       "<matplotlib.image.AxesImage at 0x7f5874f19828>"
      ]
     },
     "execution_count": 289,
     "metadata": {
      "tags": []
     },
     "output_type": "execute_result"
    },
    {
     "data": {
      "image/png": "[encoded data removed]",
      "text/plain": [
       "<Figure size 432x288 with 1 Axes>"
      ]
     },
     "metadata": {
      "tags": []
     },
     "output_type": "display_data"
    }
   ],
   "source": [
    "plt.imshow(imgs[79], cmap='gray')"
   ]
  },
  {
   "cell_type": "code",
   "execution_count": 0,
   "metadata": {
    "colab": {},
    "colab_type": "code",
    "collapsed": true,
    "id": "vAameDRtF5gT"
   },
   "outputs": [],
   "source": [
    "im_in = imgs[79]\n",
    "th, im_th = cv2.threshold(im_in, 11, 255, cv2.THRESH_BINARY_INV);"
   ]
  },
  {
   "cell_type": "code",
   "execution_count": 0,
   "metadata": {
    "colab": {
     "base_uri": "https://localhost:8080/",
     "height": 286
    },
    "colab_type": "code",
    "id": "gA6tZVAyIREA",
    "outputId": "6dd6d46b-2580-48d5-8d1e-ab93b3585e10"
   },
   "outputs": [
    {
     "data": {
      "text/plain": [
       "<matplotlib.image.AxesImage at 0x7f587378dcc0>"
      ]
     },
     "execution_count": 291,
     "metadata": {
      "tags": []
     },
     "output_type": "execute_result"
    },
    {
     "data": {
      "image/png": "[encoded data removed]",
      "text/plain": [
       "<Figure size 432x288 with 1 Axes>"
      ]
     },
     "metadata": {
      "tags": []
     },
     "output_type": "display_data"
    }
   ],
   "source": [
    "plt.imshow(im_th, cmap='gray')"
   ]
  },
  {
   "cell_type": "code",
   "execution_count": 0,
   "metadata": {
    "colab": {},
    "colab_type": "code",
    "collapsed": true,
    "id": "vq49gL0SJWvr"
   },
   "outputs": [],
   "source": [
    "kernel = cv2.getStructuringElement(cv2.MORPH_ELLIPSE,(15,15))\n",
    "res = cv2.morphologyEx(im_th,cv2.MORPH_OPEN,kernel)"
   ]
  },
  {
   "cell_type": "code",
   "execution_count": 0,
   "metadata": {
    "colab": {
     "base_uri": "https://localhost:8080/",
     "height": 286
    },
    "colab_type": "code",
    "id": "ZOBI3TSLKn11",
    "outputId": "a09b51e1-2cb3-45ff-a6c6-c5fb8078573e"
   },
   "outputs": [
    {
     "data": {
      "text/plain": [
       "<matplotlib.image.AxesImage at 0x7f587376f3c8>"
      ]
     },
     "execution_count": 293,
     "metadata": {
      "tags": []
     },
     "output_type": "execute_result"
    },
    {
     "data": {
      "image/png": "[encoded data removed]",
      "text/plain": [
       "<Figure size 432x288 with 1 Axes>"
      ]
     },
     "metadata": {
      "tags": []
     },
     "output_type": "display_data"
    }
   ],
   "source": [
    "plt.imshow(res, cmap='gray')"
   ]
  },
  {
   "cell_type": "code",
   "execution_count": 0,
   "metadata": {
    "colab": {
     "base_uri": "https://localhost:8080/",
     "height": 286
    },
    "colab_type": "code",
    "id": "AvFkOXe2K1Sn",
    "outputId": "2596e91c-39e8-4c11-82f4-0078e70d752a"
   },
   "outputs": [
    {
     "data": {
      "text/plain": [
       "<matplotlib.image.AxesImage at 0x7f58736c7a90>"
      ]
     },
     "execution_count": 294,
     "metadata": {
      "tags": []
     },
     "output_type": "execute_result"
    },
    {
     "data": {
      "image/png": "[encoded data removed]",
      "text/plain": [
       "<Figure size 432x288 with 1 Axes>"
      ]
     },
     "metadata": {
      "tags": []
     },
     "output_type": "display_data"
    }
   ],
   "source": [
    "plt.imshow(res - im_th, cmap='gray')"
   ]
  },
  {
   "cell_type": "code",
   "execution_count": 0,
   "metadata": {
    "colab": {
     "base_uri": "https://localhost:8080/",
     "height": 34
    },
    "colab_type": "code",
    "id": "_0egTtmfLCHU",
    "outputId": "bfe1f667-a64e-4a8a-845b-d71393425a53"
   },
   "outputs": [
    {
     "data": {
      "text/plain": [
       "0.04039764404296875"
      ]
     },
     "execution_count": 295,
     "metadata": {
      "tags": []
     },
     "output_type": "execute_result"
    }
   ],
   "source": [
    "diff = res - im_th\n",
    "np.mean(diff)"
   ]
  },
  {
   "cell_type": "markdown",
   "metadata": {
    "colab_type": "text",
    "id": "uemux5ZCQnOt"
   },
   "source": [
    "# IQA Algorithm - Final"
   ]
  },
  {
   "cell_type": "code",
   "execution_count": 0,
   "metadata": {
    "colab": {
     "base_uri": "https://localhost:8080/",
     "height": 266
    },
    "colab_type": "code",
    "id": "7qVihCOiMq7p",
    "outputId": "c2790a49-78bc-4b1f-f704-a5bdbb953e3e"
   },
   "outputs": [
    {
     "name": "stdout",
     "output_type": "stream",
     "text": [
      "Current best:  0 0.5631338288902227\n",
      "Current best:  1 0.5637520536992858\n"
     ]
    },
    {
     "ename": "KeyboardInterrupt",
     "evalue": "ignored",
     "output_type": "error",
     "traceback": [
      "\u001b[0;31m---------------------------------------------------------------------------\u001b[0m",
      "\u001b[0;31mKeyboardInterrupt\u001b[0m                         Traceback (most recent call last)",
      "\u001b[0;32m<ipython-input-296-17a12f87c820>\u001b[0m in \u001b[0;36m<module>\u001b[0;34m()\u001b[0m\n\u001b[1;32m      8\u001b[0m         \u001b[0mkernel\u001b[0m \u001b[0;34m=\u001b[0m \u001b[0mcv2\u001b[0m\u001b[0;34m.\u001b[0m\u001b[0mgetStructuringElement\u001b[0m\u001b[0;34m(\u001b[0m\u001b[0mcv2\u001b[0m\u001b[0;34m.\u001b[0m\u001b[0mMORPH_ELLIPSE\u001b[0m\u001b[0;34m,\u001b[0m\u001b[0;34m(\u001b[0m\u001b[0;36m15\u001b[0m\u001b[0;34m,\u001b[0m\u001b[0;36m15\u001b[0m\u001b[0;34m)\u001b[0m\u001b[0;34m)\u001b[0m\u001b[0;34m\u001b[0m\u001b[0;34m\u001b[0m\u001b[0m\n\u001b[1;32m      9\u001b[0m         \u001b[0;31m# perform opening\u001b[0m\u001b[0;34m\u001b[0m\u001b[0;34m\u001b[0m\u001b[0;34m\u001b[0m\u001b[0m\n\u001b[0;32m---> 10\u001b[0;31m         \u001b[0mres\u001b[0m \u001b[0;34m=\u001b[0m \u001b[0mcv2\u001b[0m\u001b[0;34m.\u001b[0m\u001b[0mmorphologyEx\u001b[0m\u001b[0;34m(\u001b[0m\u001b[0mim_th\u001b[0m\u001b[0;34m,\u001b[0m\u001b[0mcv2\u001b[0m\u001b[0;34m.\u001b[0m\u001b[0mMORPH_OPEN\u001b[0m\u001b[0;34m,\u001b[0m\u001b[0mkernel\u001b[0m\u001b[0;34m)\u001b[0m\u001b[0;34m\u001b[0m\u001b[0;34m\u001b[0m\u001b[0m\n\u001b[0m\u001b[1;32m     11\u001b[0m         \u001b[0;31m# difference between resulting image and threshold, will have 1 where black patch\u001b[0m\u001b[0;34m\u001b[0m\u001b[0;34m\u001b[0m\u001b[0;34m\u001b[0m\u001b[0m\n\u001b[1;32m     12\u001b[0m         \u001b[0mdiff\u001b[0m \u001b[0;34m=\u001b[0m \u001b[0mres\u001b[0m \u001b[0;34m-\u001b[0m \u001b[0mim_th\u001b[0m\u001b[0;34m\u001b[0m\u001b[0;34m\u001b[0m\u001b[0m\n",
      "\u001b[0;31mKeyboardInterrupt\u001b[0m: "
     ]
    }
   ],
   "source": [
    "best = 0\n",
    "for k in range(0, 255):\n",
    "    for i in range(imgs.shape[0]):\n",
    "        im_in = imgs[i]\n",
    "        # binary inverse threshold, make all pixels above 'k' to be zero\n",
    "        th, im_th = cv2.threshold(im_in, k, 255, cv2.THRESH_BINARY_INV);\n",
    "        # kernel for morpholical opening\n",
    "        kernel = cv2.getStructuringElement(cv2.MORPH_ELLIPSE,(15,15))\n",
    "        # perform opening\n",
    "        res = cv2.morphologyEx(im_th,cv2.MORPH_OPEN,kernel)\n",
    "        # difference between resulting image and threshold, will have 1 where black patch\n",
    "        diff = res - im_th\n",
    "        # take the mean to be the objective score\n",
    "        objective_scores[i] = np.mean(diff)\n",
    "    plcc = np.corrcoef(subjective_scores, objective_scores)[0, 1]\n",
    "    if (abs(plcc) > best):\n",
    "        best = abs(plcc)\n",
    "        print(\"Current best: \", k, best)\n",
    "    else:\n",
    "        print(\"Current: \", k, abs(plcc))"
   ]
  },
  {
   "cell_type": "code",
   "execution_count": 326,
   "metadata": {
    "colab": {
     "base_uri": "https://localhost:8080/",
     "height": 34
    },
    "colab_type": "code",
    "id": "Xn9SoYB1NhJJ",
    "outputId": "51ed8632-2ea2-4e0d-e11d-1e21bfbb953c"
   },
   "outputs": [
    {
     "name": "stdout",
     "output_type": "stream",
     "text": [
      "PLCC:  0.6292921895548697\n"
     ]
    }
   ],
   "source": [
    "threshold = 11\n",
    "for i in range(imgs.shape[0]):\n",
    "    im_in = imgs[i]\n",
    "    th, im_th = cv2.threshold(im_in, 11, 255, cv2.THRESH_BINARY_INV);\n",
    "    kernel = cv2.getStructuringElement(cv2.MORPH_ELLIPSE,(15,15))\n",
    "    res = cv2.morphologyEx(im_th,cv2.MORPH_OPEN,kernel)\n",
    "    diff = res - im_th\n",
    "    objective_scores[i] = np.mean(diff)\n",
    "plcc = abs(np.corrcoef(subjective_scores, objective_scores)[0, 1])\n",
    "print(\"PLCC: \", plcc)"
   ]
  },
  {
   "cell_type": "markdown",
   "metadata": {
    "colab_type": "text",
    "id": "T1ila8tqZLaZ"
   },
   "source": []
  },
  {
   "cell_type": "markdown",
   "metadata": {
    "colab_type": "text",
    "id": "ZTjb2V1RZMYi"
   },
   "source": [
    "# IQA Algorithm (Median Filter)"
   ]
  },
  {
   "cell_type": "code",
   "execution_count": 22,
   "metadata": {
    "colab": {
     "base_uri": "https://localhost:8080/",
     "height": 286
    },
    "colab_type": "code",
    "id": "b4ZRLuh-ZN62",
    "outputId": "a89bd864-8679-4eb0-93c2-e39c18f129ac"
   },
   "outputs": [
    {
     "data": {
      "text/plain": [
       "<matplotlib.image.AxesImage at 0x7efe2b319d30>"
      ]
     },
     "execution_count": 22,
     "metadata": {},
     "output_type": "execute_result"
    }
   ],
   "source": [
    "img_in = imgs[79]\n",
    "plt.imshow(img_in, cmap = 'gray')"
   ]
  },
  {
   "cell_type": "code",
   "execution_count": 23,
   "metadata": {
    "colab": {
     "base_uri": "https://localhost:8080/",
     "height": 286
    },
    "colab_type": "code",
    "id": "RhllIUkiZQUb",
    "outputId": "809b0954-a625-4833-d56a-d7140b4a897d"
   },
   "outputs": [
    {
     "data": {
      "text/plain": [
       "<matplotlib.image.AxesImage at 0x7efe2cb9fa90>"
      ]
     },
     "execution_count": 23,
     "metadata": {},
     "output_type": "execute_result"
    }
   ],
   "source": [
    "img_filtered = cv2.medianBlur(img_in, 3)\n",
    "plt.imshow(img_filtered, cmap = 'gray')"
   ]
  },
  {
   "cell_type": "code",
   "execution_count": 24,
   "metadata": {
    "colab": {
     "base_uri": "https://localhost:8080/",
     "height": 286
    },
    "colab_type": "code",
    "id": "AaSOha_kZ35j",
    "outputId": "9f4db7b4-5a21-40fc-cddf-b7694e6200d3"
   },
   "outputs": [
    {
     "data": {
      "text/plain": [
       "<matplotlib.image.AxesImage at 0x7efe2b32f2e8>"
      ]
     },
     "execution_count": 24,
     "metadata": {},
     "output_type": "execute_result"
    }
   ],
   "source": [
    "img_out = np.abs(np.array(img_in, dtype=np.float32) - np.array(img_filtered, dtype=np.float32))\n",
    "plt.imshow(img_out, cmap = 'gray')"
   ]
  },
  {
   "cell_type": "code",
   "execution_count": 25,
   "metadata": {
    "colab": {
     "base_uri": "https://localhost:8080/",
     "height": 286
    },
    "colab_type": "code",
    "id": "97HulbuLaJ7o",
    "outputId": "0a4c093b-b5e4-4e80-acf1-db8bb3dddffd"
   },
   "outputs": [
    {
     "data": {
      "text/plain": [
       "<matplotlib.image.AxesImage at 0x7efe2b32f710>"
      ]
     },
     "execution_count": 25,
     "metadata": {},
     "output_type": "execute_result"
    }
   ],
   "source": [
    "kernel = np.ones((3, 3), np.float32)/9\n",
    "img_out_smooth = cv2.filter2D(img_out, -1, kernel)\n",
    "for i in range(20):\n",
    "    img_out_smooth = cv2.filter2D(img_out_smooth, -1, kernel)\n",
    "plt.imshow(img_out_smooth, cmap = 'gray')"
   ]
  },
  {
   "cell_type": "code",
   "execution_count": 26,
   "metadata": {
    "colab": {
     "base_uri": "https://localhost:8080/",
     "height": 229
    },
    "colab_type": "code",
    "id": "h-RsM9Tra9UP",
    "outputId": "6f42f0c3-e1bb-4620-8d98-baff67eb8d88"
   },
   "outputs": [
    {
     "name": "stderr",
     "output_type": "stream",
     "text": [
      "/home/vikasgola/anaconda3/lib/python3.6/site-packages/matplotlib/cbook/deprecation.py:106: MatplotlibDeprecationWarning: Adding an axes using the same arguments as a previous axes currently reuses the earlier instance.  In a future version, a new instance will always be created and returned.  Meanwhile, this warning can be suppressed, and the future behavior ensured, by passing a unique label to each axes instance.\n",
      "  warnings.warn(message, mplDeprecation, stacklevel=1)\n"
     ]
    },
    {
     "data": {
      "text/plain": [
       "(<matplotlib.axes._subplots.AxesSubplot at 0x7efe2b35d7f0>,\n",
       " <matplotlib.image.AxesImage at 0x7efe2b320b70>,\n",
       " Text(0.5,1,'Threshold 2'))"
      ]
     },
     "execution_count": 26,
     "metadata": {},
     "output_type": "execute_result"
    }
   ],
   "source": [
    "t1 = 25\n",
    "t2 = 35\n",
    "ret, thresh1 = cv2.threshold(img_out_smooth, t1, 255, cv2.THRESH_BINARY)\n",
    "plt.subplot(121), plt.imshow(thresh1, cmap = 'gray'), plt.title('Threshold 1')\n",
    "ret, thresh2 = cv2.threshold(img_out_smooth, t2, 255, cv2.THRESH_BINARY)\n",
    "plt.subplot(122), plt.imshow(thresh2, cmap = 'gray'), plt.title('Threshold 2')"
   ]
  },
  {
   "cell_type": "code",
   "execution_count": 19,
   "metadata": {
    "colab": {
     "base_uri": "https://localhost:8080/",
     "height": 34
    },
    "colab_type": "code",
    "id": "P_PgbcK8d1uB",
    "outputId": "2e7db7de-bd4a-4a25-ed59-2178d1947271"
   },
   "outputs": [
    {
     "name": "stdout",
     "output_type": "stream",
     "text": [
      "67.7289635195\n"
     ]
    }
   ],
   "source": [
    "mean = np.std(thresh1)\n",
    "print(mean)"
   ]
  },
  {
   "cell_type": "code",
   "execution_count": 20,
   "metadata": {
    "colab": {
     "base_uri": "https://localhost:8080/",
     "height": 34
    },
    "colab_type": "code",
    "id": "uRcJKZCgeT1m",
    "outputId": "4131bb49-c2ff-44ab-e393-b7225f3af279"
   },
   "outputs": [
    {
     "name": "stdout",
     "output_type": "stream",
     "text": [
      "0.173800715615\n"
     ]
    }
   ],
   "source": [
    "t1 = 25\n",
    "t2 = 35\n",
    "for i in range(imgs.shape[0]):\n",
    "    img_in = imgs[i]\n",
    "    img_filtered = cv2.medianBlur(img_in, 5)\n",
    "    img_out = abs(img_in - img_filtered)\n",
    "    kernel = np.ones((3, 3), np.float32)/9\n",
    "    img_out_smooth = cv2.filter2D(img_out, -1, kernel)\n",
    "    for i in range(10):\n",
    "        img_out_smooth = cv2.filter2D(img_out_smooth, -1, kernel)\n",
    "    ret, thresh1 = cv2.threshold(img_out_smooth, t1, 255, cv2.THRESH_BINARY)\n",
    "    ret, thresh2 = cv2.threshold(img_out_smooth, t2, 255, cv2.THRESH_BINARY)\n",
    "    std1 = np.std(thresh1)\n",
    "    std2 = np.std(thresh2)\n",
    "    objective_scores[i] = (2*std1*std2)/(std1**2 + std2**2)\n",
    "plcc = abs(np.corrcoef(subjective_scores, objective_scores)[0, 1])\n",
    "print(plcc)"
   ]
  },
  {
   "cell_type": "markdown",
   "metadata": {
    "colab_type": "text",
    "id": "D1i-vhemeaF6"
   },
   "source": [
    "## Considering multiple objective scores for an image"
   ]
  },
  {
   "cell_type": "code",
   "execution_count": 362,
   "metadata": {
    "colab": {
     "base_uri": "https://localhost:8080/",
     "height": 51
    },
    "colab_type": "code",
    "id": "ku4NfM4nb25d",
    "outputId": "7705b820-5df9-43d5-d54e-bc8e1b2a4398"
   },
   "outputs": [
    {
     "name": "stdout",
     "output_type": "stream",
     "text": [
      "246.95440292358398 44.574607369780054\n",
      "240.63543319702148 58.79305873419318\n"
     ]
    }
   ],
   "source": [
    "mean1, std1 = cv2.meanStdDev(thresh1)\n",
    "mean2, std2 = cv2.meanStdDev(thresh2)\n",
    "mean1 = mean1[0, 0]\n",
    "mean2 = mean2[0, 0]\n",
    "std1 = std1[0, 0]\n",
    "std2 = std2[0, 0]\n",
    "print(mean1, std1)\n",
    "print(mean2, std2)"
   ]
  },
  {
   "cell_type": "code",
   "execution_count": 363,
   "metadata": {
    "colab": {
     "base_uri": "https://localhost:8080/",
     "height": 51
    },
    "colab_type": "code",
    "id": "Tt6g5vLfckCS",
    "outputId": "4f2bdec8-5734-4a8e-f595-ac6419e5004d"
   },
   "outputs": [
    {
     "name": "stdout",
     "output_type": "stream",
     "text": [
      "[1.03367666e+02 2.62067751e+03 1.31898081e+00 7.58161124e-01\n",
      " 9.62861467e-01]\n"
     ]
    }
   ],
   "source": [
    "eps = 0.001\n",
    "scores = np.zeros((5,))\n",
    "scores[0] = std1 + std2\n",
    "scores[1] = std1 * std2\n",
    "scores[2] = (std1*std2 + eps)/(std1**2 + eps)\n",
    "scores[3] = (std1*std2 + eps)/(std2**2 + eps)\n",
    "scores[4] = (2*std1*std2 + eps)/(std1**2 + std2**2 + eps)\n",
    "print(scores)"
   ]
  }
 ],
 "metadata": {
  "accelerator": "GPU",
  "colab": {
   "collapsed_sections": [
    "gIe2YMdu3G-0",
    "wqV5uWIc4GO3",
    "b78B-KIX6Kf4"
   ],
   "name": "IQA_Project.ipynb",
   "provenance": [],
   "version": "0.3.2"
  },
  "kernelspec": {
   "display_name": "Python 3",
   "language": "python",
   "name": "python3"
  },
  "language_info": {
   "codemirror_mode": {
    "name": "ipython",
    "version": 3
   },
   "file_extension": ".py",
   "mimetype": "text/x-python",
   "name": "python",
   "nbconvert_exporter": "python",
   "pygments_lexer": "ipython3",
   "version": "3.6.8"
  }
 },
 "nbformat": 4,
 "nbformat_minor": 1
}
